{
  "nbformat": 4,
  "nbformat_minor": 0,
  "metadata": {
    "colab": {
      "name": "assignment2.ipynb",
      "provenance": []
    },
    "kernelspec": {
      "name": "python3",
      "display_name": "Python 3"
    },
    "language_info": {
      "name": "python"
    }
  },
  "cells": [
    {
      "cell_type": "code",
      "execution_count": 10,
      "metadata": {
        "colab": {
          "base_uri": "https://localhost:8080/"
        },
        "id": "m02m4tqrDa0s",
        "outputId": "1e417826-f1a4-4c35-f48e-bbf63edd040d"
      },
      "outputs": [
        {
          "output_type": "stream",
          "name": "stdout",
          "text": [
            "Drive already mounted at /content/drive; to attempt to forcibly remount, call drive.mount(\"/content/drive\", force_remount=True).\n"
          ]
        }
      ],
      "source": [
        "from google.colab import drive\n",
        "drive.mount(\"/content/drive\")"
      ]
    },
    {
      "cell_type": "code",
      "source": [
        "import pandas as pd\n",
        "import numpy as np\n",
        "import seaborn as sns\n",
        "import matplotlib.pyplot as plt\n",
        "%matplotlib inline\n",
        "\n"
      ],
      "metadata": {
        "id": "-nr4-_SHDfs1"
      },
      "execution_count": 11,
      "outputs": []
    },
    {
      "cell_type": "code",
      "source": [
        "file=pd.read_csv(\"/content/drive/MyDrive/dirty.csv\")\n",
        "df=pd.DataFrame(file)"
      ],
      "metadata": {
        "id": "ebJ-uZmPDpmN"
      },
      "execution_count": 12,
      "outputs": []
    },
    {
      "cell_type": "code",
      "source": [
        "df"
      ],
      "metadata": {
        "colab": {
          "base_uri": "https://localhost:8080/",
          "height": 424
        },
        "id": "xx-RuLZhDyhl",
        "outputId": "b20ad6ec-320d-41e2-bd1e-7faf62e2bd15"
      },
      "execution_count": 13,
      "outputs": [
        {
          "output_type": "execute_result",
          "data": {
            "text/plain": [
              "        ID  GENDER  MARRITIAL STATUS   AGE  COMPANION  EMPLOYMENT  \\\n",
              "0      1.0     1.0               1.0  23.0        0.0         5.0   \n",
              "1      2.0     1.0               0.0  25.0        1.0         3.0   \n",
              "2      3.0     2.0               0.0  24.0        1.0         5.0   \n",
              "3      4.0     1.0               1.0  25.0        1.0         5.0   \n",
              "4      5.0     2.0               1.0  22.0        0.0         3.0   \n",
              "...    ...     ...               ...   ...        ...         ...   \n",
              "1002  64.0     1.0               1.0  25.0        1.0         2.0   \n",
              "1003  65.0     2.0               1.0  20.0        0.0         2.0   \n",
              "1004  66.0     2.0               1.0  21.0        1.0         2.0   \n",
              "1005  67.0     1.0               1.0  23.0        1.0         4.0   \n",
              "1006  68.0     1.0               0.0  21.0        1.0         2.0   \n",
              "\n",
              "      TWO_FOUR_WHEELER  CINEMA_LIKES     MONEY  \n",
              "0                  0.0           1.0  690827.0  \n",
              "1                  1.0           1.0  666946.0  \n",
              "2                  1.0           2.0  872033.0  \n",
              "3                  1.0           2.0  675677.0  \n",
              "4                  1.0           2.0  699206.0  \n",
              "...                ...           ...       ...  \n",
              "1002               1.0           2.0  579222.0  \n",
              "1003               1.0           2.0  604955.0  \n",
              "1004               1.0           2.0  514313.0  \n",
              "1005               1.0           3.0  912896.0  \n",
              "1006               1.0           1.0  310000.0  \n",
              "\n",
              "[1007 rows x 9 columns]"
            ],
            "text/html": [
              "\n",
              "  <div id=\"df-f9a8978a-b391-40e4-9e6d-c312fb71b0ab\">\n",
              "    <div class=\"colab-df-container\">\n",
              "      <div>\n",
              "<style scoped>\n",
              "    .dataframe tbody tr th:only-of-type {\n",
              "        vertical-align: middle;\n",
              "    }\n",
              "\n",
              "    .dataframe tbody tr th {\n",
              "        vertical-align: top;\n",
              "    }\n",
              "\n",
              "    .dataframe thead th {\n",
              "        text-align: right;\n",
              "    }\n",
              "</style>\n",
              "<table border=\"1\" class=\"dataframe\">\n",
              "  <thead>\n",
              "    <tr style=\"text-align: right;\">\n",
              "      <th></th>\n",
              "      <th>ID</th>\n",
              "      <th>GENDER</th>\n",
              "      <th>MARRITIAL STATUS</th>\n",
              "      <th>AGE</th>\n",
              "      <th>COMPANION</th>\n",
              "      <th>EMPLOYMENT</th>\n",
              "      <th>TWO_FOUR_WHEELER</th>\n",
              "      <th>CINEMA_LIKES</th>\n",
              "      <th>MONEY</th>\n",
              "    </tr>\n",
              "  </thead>\n",
              "  <tbody>\n",
              "    <tr>\n",
              "      <th>0</th>\n",
              "      <td>1.0</td>\n",
              "      <td>1.0</td>\n",
              "      <td>1.0</td>\n",
              "      <td>23.0</td>\n",
              "      <td>0.0</td>\n",
              "      <td>5.0</td>\n",
              "      <td>0.0</td>\n",
              "      <td>1.0</td>\n",
              "      <td>690827.0</td>\n",
              "    </tr>\n",
              "    <tr>\n",
              "      <th>1</th>\n",
              "      <td>2.0</td>\n",
              "      <td>1.0</td>\n",
              "      <td>0.0</td>\n",
              "      <td>25.0</td>\n",
              "      <td>1.0</td>\n",
              "      <td>3.0</td>\n",
              "      <td>1.0</td>\n",
              "      <td>1.0</td>\n",
              "      <td>666946.0</td>\n",
              "    </tr>\n",
              "    <tr>\n",
              "      <th>2</th>\n",
              "      <td>3.0</td>\n",
              "      <td>2.0</td>\n",
              "      <td>0.0</td>\n",
              "      <td>24.0</td>\n",
              "      <td>1.0</td>\n",
              "      <td>5.0</td>\n",
              "      <td>1.0</td>\n",
              "      <td>2.0</td>\n",
              "      <td>872033.0</td>\n",
              "    </tr>\n",
              "    <tr>\n",
              "      <th>3</th>\n",
              "      <td>4.0</td>\n",
              "      <td>1.0</td>\n",
              "      <td>1.0</td>\n",
              "      <td>25.0</td>\n",
              "      <td>1.0</td>\n",
              "      <td>5.0</td>\n",
              "      <td>1.0</td>\n",
              "      <td>2.0</td>\n",
              "      <td>675677.0</td>\n",
              "    </tr>\n",
              "    <tr>\n",
              "      <th>4</th>\n",
              "      <td>5.0</td>\n",
              "      <td>2.0</td>\n",
              "      <td>1.0</td>\n",
              "      <td>22.0</td>\n",
              "      <td>0.0</td>\n",
              "      <td>3.0</td>\n",
              "      <td>1.0</td>\n",
              "      <td>2.0</td>\n",
              "      <td>699206.0</td>\n",
              "    </tr>\n",
              "    <tr>\n",
              "      <th>...</th>\n",
              "      <td>...</td>\n",
              "      <td>...</td>\n",
              "      <td>...</td>\n",
              "      <td>...</td>\n",
              "      <td>...</td>\n",
              "      <td>...</td>\n",
              "      <td>...</td>\n",
              "      <td>...</td>\n",
              "      <td>...</td>\n",
              "    </tr>\n",
              "    <tr>\n",
              "      <th>1002</th>\n",
              "      <td>64.0</td>\n",
              "      <td>1.0</td>\n",
              "      <td>1.0</td>\n",
              "      <td>25.0</td>\n",
              "      <td>1.0</td>\n",
              "      <td>2.0</td>\n",
              "      <td>1.0</td>\n",
              "      <td>2.0</td>\n",
              "      <td>579222.0</td>\n",
              "    </tr>\n",
              "    <tr>\n",
              "      <th>1003</th>\n",
              "      <td>65.0</td>\n",
              "      <td>2.0</td>\n",
              "      <td>1.0</td>\n",
              "      <td>20.0</td>\n",
              "      <td>0.0</td>\n",
              "      <td>2.0</td>\n",
              "      <td>1.0</td>\n",
              "      <td>2.0</td>\n",
              "      <td>604955.0</td>\n",
              "    </tr>\n",
              "    <tr>\n",
              "      <th>1004</th>\n",
              "      <td>66.0</td>\n",
              "      <td>2.0</td>\n",
              "      <td>1.0</td>\n",
              "      <td>21.0</td>\n",
              "      <td>1.0</td>\n",
              "      <td>2.0</td>\n",
              "      <td>1.0</td>\n",
              "      <td>2.0</td>\n",
              "      <td>514313.0</td>\n",
              "    </tr>\n",
              "    <tr>\n",
              "      <th>1005</th>\n",
              "      <td>67.0</td>\n",
              "      <td>1.0</td>\n",
              "      <td>1.0</td>\n",
              "      <td>23.0</td>\n",
              "      <td>1.0</td>\n",
              "      <td>4.0</td>\n",
              "      <td>1.0</td>\n",
              "      <td>3.0</td>\n",
              "      <td>912896.0</td>\n",
              "    </tr>\n",
              "    <tr>\n",
              "      <th>1006</th>\n",
              "      <td>68.0</td>\n",
              "      <td>1.0</td>\n",
              "      <td>0.0</td>\n",
              "      <td>21.0</td>\n",
              "      <td>1.0</td>\n",
              "      <td>2.0</td>\n",
              "      <td>1.0</td>\n",
              "      <td>1.0</td>\n",
              "      <td>310000.0</td>\n",
              "    </tr>\n",
              "  </tbody>\n",
              "</table>\n",
              "<p>1007 rows × 9 columns</p>\n",
              "</div>\n",
              "      <button class=\"colab-df-convert\" onclick=\"convertToInteractive('df-f9a8978a-b391-40e4-9e6d-c312fb71b0ab')\"\n",
              "              title=\"Convert this dataframe to an interactive table.\"\n",
              "              style=\"display:none;\">\n",
              "        \n",
              "  <svg xmlns=\"http://www.w3.org/2000/svg\" height=\"24px\"viewBox=\"0 0 24 24\"\n",
              "       width=\"24px\">\n",
              "    <path d=\"M0 0h24v24H0V0z\" fill=\"none\"/>\n",
              "    <path d=\"M18.56 5.44l.94 2.06.94-2.06 2.06-.94-2.06-.94-.94-2.06-.94 2.06-2.06.94zm-11 1L8.5 8.5l.94-2.06 2.06-.94-2.06-.94L8.5 2.5l-.94 2.06-2.06.94zm10 10l.94 2.06.94-2.06 2.06-.94-2.06-.94-.94-2.06-.94 2.06-2.06.94z\"/><path d=\"M17.41 7.96l-1.37-1.37c-.4-.4-.92-.59-1.43-.59-.52 0-1.04.2-1.43.59L10.3 9.45l-7.72 7.72c-.78.78-.78 2.05 0 2.83L4 21.41c.39.39.9.59 1.41.59.51 0 1.02-.2 1.41-.59l7.78-7.78 2.81-2.81c.8-.78.8-2.07 0-2.86zM5.41 20L4 18.59l7.72-7.72 1.47 1.35L5.41 20z\"/>\n",
              "  </svg>\n",
              "      </button>\n",
              "      \n",
              "  <style>\n",
              "    .colab-df-container {\n",
              "      display:flex;\n",
              "      flex-wrap:wrap;\n",
              "      gap: 12px;\n",
              "    }\n",
              "\n",
              "    .colab-df-convert {\n",
              "      background-color: #E8F0FE;\n",
              "      border: none;\n",
              "      border-radius: 50%;\n",
              "      cursor: pointer;\n",
              "      display: none;\n",
              "      fill: #1967D2;\n",
              "      height: 32px;\n",
              "      padding: 0 0 0 0;\n",
              "      width: 32px;\n",
              "    }\n",
              "\n",
              "    .colab-df-convert:hover {\n",
              "      background-color: #E2EBFA;\n",
              "      box-shadow: 0px 1px 2px rgba(60, 64, 67, 0.3), 0px 1px 3px 1px rgba(60, 64, 67, 0.15);\n",
              "      fill: #174EA6;\n",
              "    }\n",
              "\n",
              "    [theme=dark] .colab-df-convert {\n",
              "      background-color: #3B4455;\n",
              "      fill: #D2E3FC;\n",
              "    }\n",
              "\n",
              "    [theme=dark] .colab-df-convert:hover {\n",
              "      background-color: #434B5C;\n",
              "      box-shadow: 0px 1px 3px 1px rgba(0, 0, 0, 0.15);\n",
              "      filter: drop-shadow(0px 1px 2px rgba(0, 0, 0, 0.3));\n",
              "      fill: #FFFFFF;\n",
              "    }\n",
              "  </style>\n",
              "\n",
              "      <script>\n",
              "        const buttonEl =\n",
              "          document.querySelector('#df-f9a8978a-b391-40e4-9e6d-c312fb71b0ab button.colab-df-convert');\n",
              "        buttonEl.style.display =\n",
              "          google.colab.kernel.accessAllowed ? 'block' : 'none';\n",
              "\n",
              "        async function convertToInteractive(key) {\n",
              "          const element = document.querySelector('#df-f9a8978a-b391-40e4-9e6d-c312fb71b0ab');\n",
              "          const dataTable =\n",
              "            await google.colab.kernel.invokeFunction('convertToInteractive',\n",
              "                                                     [key], {});\n",
              "          if (!dataTable) return;\n",
              "\n",
              "          const docLinkHtml = 'Like what you see? Visit the ' +\n",
              "            '<a target=\"_blank\" href=https://colab.research.google.com/notebooks/data_table.ipynb>data table notebook</a>'\n",
              "            + ' to learn more about interactive tables.';\n",
              "          element.innerHTML = '';\n",
              "          dataTable['output_type'] = 'display_data';\n",
              "          await google.colab.output.renderOutput(dataTable, element);\n",
              "          const docLink = document.createElement('div');\n",
              "          docLink.innerHTML = docLinkHtml;\n",
              "          element.appendChild(docLink);\n",
              "        }\n",
              "      </script>\n",
              "    </div>\n",
              "  </div>\n",
              "  "
            ]
          },
          "metadata": {},
          "execution_count": 13
        }
      ]
    },
    {
      "cell_type": "code",
      "source": [
        "\n",
        "df.info()"
      ],
      "metadata": {
        "colab": {
          "base_uri": "https://localhost:8080/"
        },
        "id": "1b2ODgcBD1Ly",
        "outputId": "a4ee6078-8770-415f-93c3-5333d5f81aae"
      },
      "execution_count": 14,
      "outputs": [
        {
          "output_type": "stream",
          "name": "stdout",
          "text": [
            "<class 'pandas.core.frame.DataFrame'>\n",
            "RangeIndex: 1007 entries, 0 to 1006\n",
            "Data columns (total 9 columns):\n",
            " #   Column            Non-Null Count  Dtype  \n",
            "---  ------            --------------  -----  \n",
            " 0   ID                1006 non-null   float64\n",
            " 1   GENDER            1006 non-null   float64\n",
            " 2   MARRITIAL STATUS  1004 non-null   float64\n",
            " 3   AGE               1005 non-null   float64\n",
            " 4   COMPANION         1004 non-null   float64\n",
            " 5   EMPLOYMENT        1006 non-null   float64\n",
            " 6   TWO_FOUR_WHEELER  1003 non-null   float64\n",
            " 7   CINEMA_LIKES      1005 non-null   float64\n",
            " 8   MONEY             1006 non-null   float64\n",
            "dtypes: float64(9)\n",
            "memory usage: 70.9 KB\n"
          ]
        }
      ]
    },
    {
      "cell_type": "code",
      "source": [
        "df.describe()"
      ],
      "metadata": {
        "colab": {
          "base_uri": "https://localhost:8080/",
          "height": 362
        },
        "id": "DBGFPWinD2er",
        "outputId": "9109f402-8676-467a-a871-c5060d3723dc"
      },
      "execution_count": 15,
      "outputs": [
        {
          "output_type": "execute_result",
          "data": {
            "text/plain": [
              "                ID       GENDER  MARRITIAL STATUS          AGE    COMPANION  \\\n",
              "count  1006.000000  1006.000000       1004.000000  1005.000000  1004.000000   \n",
              "mean    497.003976     1.512922          0.483068    22.679602     0.506972   \n",
              "std     289.843176     0.500082          0.499962     4.366756     0.500201   \n",
              "min       1.000000     1.000000          0.000000    20.000000     0.000000   \n",
              "25%     245.250000     1.000000          0.000000    21.000000     0.000000   \n",
              "50%     496.500000     2.000000          0.000000    22.000000     1.000000   \n",
              "75%     747.750000     2.000000          1.000000    24.000000     1.000000   \n",
              "max    1000.000000     2.000000          1.000000    90.000000     1.000000   \n",
              "\n",
              "        EMPLOYMENT  TWO_FOUR_WHEELER  CINEMA_LIKES         MONEY  \n",
              "count  1006.000000       1003.000000   1005.000000  1.006000e+03  \n",
              "mean      2.990060          0.525424      2.000995  7.493949e+05  \n",
              "std       1.395765          0.499602      0.819945  1.713715e+05  \n",
              "min       1.000000          0.000000      1.000000  1.000000e+05  \n",
              "25%       2.000000          0.000000      1.000000  6.241638e+05  \n",
              "50%       3.000000          1.000000      2.000000  7.484295e+05  \n",
              "75%       4.000000          1.000000      3.000000  8.744798e+05  \n",
              "max       5.000000          1.000000      3.000000  2.000000e+06  "
            ],
            "text/html": [
              "\n",
              "  <div id=\"df-60b45732-d718-4350-a1f9-1a5bc8872223\">\n",
              "    <div class=\"colab-df-container\">\n",
              "      <div>\n",
              "<style scoped>\n",
              "    .dataframe tbody tr th:only-of-type {\n",
              "        vertical-align: middle;\n",
              "    }\n",
              "\n",
              "    .dataframe tbody tr th {\n",
              "        vertical-align: top;\n",
              "    }\n",
              "\n",
              "    .dataframe thead th {\n",
              "        text-align: right;\n",
              "    }\n",
              "</style>\n",
              "<table border=\"1\" class=\"dataframe\">\n",
              "  <thead>\n",
              "    <tr style=\"text-align: right;\">\n",
              "      <th></th>\n",
              "      <th>ID</th>\n",
              "      <th>GENDER</th>\n",
              "      <th>MARRITIAL STATUS</th>\n",
              "      <th>AGE</th>\n",
              "      <th>COMPANION</th>\n",
              "      <th>EMPLOYMENT</th>\n",
              "      <th>TWO_FOUR_WHEELER</th>\n",
              "      <th>CINEMA_LIKES</th>\n",
              "      <th>MONEY</th>\n",
              "    </tr>\n",
              "  </thead>\n",
              "  <tbody>\n",
              "    <tr>\n",
              "      <th>count</th>\n",
              "      <td>1006.000000</td>\n",
              "      <td>1006.000000</td>\n",
              "      <td>1004.000000</td>\n",
              "      <td>1005.000000</td>\n",
              "      <td>1004.000000</td>\n",
              "      <td>1006.000000</td>\n",
              "      <td>1003.000000</td>\n",
              "      <td>1005.000000</td>\n",
              "      <td>1.006000e+03</td>\n",
              "    </tr>\n",
              "    <tr>\n",
              "      <th>mean</th>\n",
              "      <td>497.003976</td>\n",
              "      <td>1.512922</td>\n",
              "      <td>0.483068</td>\n",
              "      <td>22.679602</td>\n",
              "      <td>0.506972</td>\n",
              "      <td>2.990060</td>\n",
              "      <td>0.525424</td>\n",
              "      <td>2.000995</td>\n",
              "      <td>7.493949e+05</td>\n",
              "    </tr>\n",
              "    <tr>\n",
              "      <th>std</th>\n",
              "      <td>289.843176</td>\n",
              "      <td>0.500082</td>\n",
              "      <td>0.499962</td>\n",
              "      <td>4.366756</td>\n",
              "      <td>0.500201</td>\n",
              "      <td>1.395765</td>\n",
              "      <td>0.499602</td>\n",
              "      <td>0.819945</td>\n",
              "      <td>1.713715e+05</td>\n",
              "    </tr>\n",
              "    <tr>\n",
              "      <th>min</th>\n",
              "      <td>1.000000</td>\n",
              "      <td>1.000000</td>\n",
              "      <td>0.000000</td>\n",
              "      <td>20.000000</td>\n",
              "      <td>0.000000</td>\n",
              "      <td>1.000000</td>\n",
              "      <td>0.000000</td>\n",
              "      <td>1.000000</td>\n",
              "      <td>1.000000e+05</td>\n",
              "    </tr>\n",
              "    <tr>\n",
              "      <th>25%</th>\n",
              "      <td>245.250000</td>\n",
              "      <td>1.000000</td>\n",
              "      <td>0.000000</td>\n",
              "      <td>21.000000</td>\n",
              "      <td>0.000000</td>\n",
              "      <td>2.000000</td>\n",
              "      <td>0.000000</td>\n",
              "      <td>1.000000</td>\n",
              "      <td>6.241638e+05</td>\n",
              "    </tr>\n",
              "    <tr>\n",
              "      <th>50%</th>\n",
              "      <td>496.500000</td>\n",
              "      <td>2.000000</td>\n",
              "      <td>0.000000</td>\n",
              "      <td>22.000000</td>\n",
              "      <td>1.000000</td>\n",
              "      <td>3.000000</td>\n",
              "      <td>1.000000</td>\n",
              "      <td>2.000000</td>\n",
              "      <td>7.484295e+05</td>\n",
              "    </tr>\n",
              "    <tr>\n",
              "      <th>75%</th>\n",
              "      <td>747.750000</td>\n",
              "      <td>2.000000</td>\n",
              "      <td>1.000000</td>\n",
              "      <td>24.000000</td>\n",
              "      <td>1.000000</td>\n",
              "      <td>4.000000</td>\n",
              "      <td>1.000000</td>\n",
              "      <td>3.000000</td>\n",
              "      <td>8.744798e+05</td>\n",
              "    </tr>\n",
              "    <tr>\n",
              "      <th>max</th>\n",
              "      <td>1000.000000</td>\n",
              "      <td>2.000000</td>\n",
              "      <td>1.000000</td>\n",
              "      <td>90.000000</td>\n",
              "      <td>1.000000</td>\n",
              "      <td>5.000000</td>\n",
              "      <td>1.000000</td>\n",
              "      <td>3.000000</td>\n",
              "      <td>2.000000e+06</td>\n",
              "    </tr>\n",
              "  </tbody>\n",
              "</table>\n",
              "</div>\n",
              "      <button class=\"colab-df-convert\" onclick=\"convertToInteractive('df-60b45732-d718-4350-a1f9-1a5bc8872223')\"\n",
              "              title=\"Convert this dataframe to an interactive table.\"\n",
              "              style=\"display:none;\">\n",
              "        \n",
              "  <svg xmlns=\"http://www.w3.org/2000/svg\" height=\"24px\"viewBox=\"0 0 24 24\"\n",
              "       width=\"24px\">\n",
              "    <path d=\"M0 0h24v24H0V0z\" fill=\"none\"/>\n",
              "    <path d=\"M18.56 5.44l.94 2.06.94-2.06 2.06-.94-2.06-.94-.94-2.06-.94 2.06-2.06.94zm-11 1L8.5 8.5l.94-2.06 2.06-.94-2.06-.94L8.5 2.5l-.94 2.06-2.06.94zm10 10l.94 2.06.94-2.06 2.06-.94-2.06-.94-.94-2.06-.94 2.06-2.06.94z\"/><path d=\"M17.41 7.96l-1.37-1.37c-.4-.4-.92-.59-1.43-.59-.52 0-1.04.2-1.43.59L10.3 9.45l-7.72 7.72c-.78.78-.78 2.05 0 2.83L4 21.41c.39.39.9.59 1.41.59.51 0 1.02-.2 1.41-.59l7.78-7.78 2.81-2.81c.8-.78.8-2.07 0-2.86zM5.41 20L4 18.59l7.72-7.72 1.47 1.35L5.41 20z\"/>\n",
              "  </svg>\n",
              "      </button>\n",
              "      \n",
              "  <style>\n",
              "    .colab-df-container {\n",
              "      display:flex;\n",
              "      flex-wrap:wrap;\n",
              "      gap: 12px;\n",
              "    }\n",
              "\n",
              "    .colab-df-convert {\n",
              "      background-color: #E8F0FE;\n",
              "      border: none;\n",
              "      border-radius: 50%;\n",
              "      cursor: pointer;\n",
              "      display: none;\n",
              "      fill: #1967D2;\n",
              "      height: 32px;\n",
              "      padding: 0 0 0 0;\n",
              "      width: 32px;\n",
              "    }\n",
              "\n",
              "    .colab-df-convert:hover {\n",
              "      background-color: #E2EBFA;\n",
              "      box-shadow: 0px 1px 2px rgba(60, 64, 67, 0.3), 0px 1px 3px 1px rgba(60, 64, 67, 0.15);\n",
              "      fill: #174EA6;\n",
              "    }\n",
              "\n",
              "    [theme=dark] .colab-df-convert {\n",
              "      background-color: #3B4455;\n",
              "      fill: #D2E3FC;\n",
              "    }\n",
              "\n",
              "    [theme=dark] .colab-df-convert:hover {\n",
              "      background-color: #434B5C;\n",
              "      box-shadow: 0px 1px 3px 1px rgba(0, 0, 0, 0.15);\n",
              "      filter: drop-shadow(0px 1px 2px rgba(0, 0, 0, 0.3));\n",
              "      fill: #FFFFFF;\n",
              "    }\n",
              "  </style>\n",
              "\n",
              "      <script>\n",
              "        const buttonEl =\n",
              "          document.querySelector('#df-60b45732-d718-4350-a1f9-1a5bc8872223 button.colab-df-convert');\n",
              "        buttonEl.style.display =\n",
              "          google.colab.kernel.accessAllowed ? 'block' : 'none';\n",
              "\n",
              "        async function convertToInteractive(key) {\n",
              "          const element = document.querySelector('#df-60b45732-d718-4350-a1f9-1a5bc8872223');\n",
              "          const dataTable =\n",
              "            await google.colab.kernel.invokeFunction('convertToInteractive',\n",
              "                                                     [key], {});\n",
              "          if (!dataTable) return;\n",
              "\n",
              "          const docLinkHtml = 'Like what you see? Visit the ' +\n",
              "            '<a target=\"_blank\" href=https://colab.research.google.com/notebooks/data_table.ipynb>data table notebook</a>'\n",
              "            + ' to learn more about interactive tables.';\n",
              "          element.innerHTML = '';\n",
              "          dataTable['output_type'] = 'display_data';\n",
              "          await google.colab.output.renderOutput(dataTable, element);\n",
              "          const docLink = document.createElement('div');\n",
              "          docLink.innerHTML = docLinkHtml;\n",
              "          element.appendChild(docLink);\n",
              "        }\n",
              "      </script>\n",
              "    </div>\n",
              "  </div>\n",
              "  "
            ]
          },
          "metadata": {},
          "execution_count": 15
        }
      ]
    },
    {
      "cell_type": "code",
      "source": [
        "df.drop(['ID'],axis=1,inplace=True)"
      ],
      "metadata": {
        "id": "QnVuXh9ED7Id"
      },
      "execution_count": 16,
      "outputs": []
    },
    {
      "cell_type": "code",
      "source": [
        "df[df.duplicated()]"
      ],
      "metadata": {
        "colab": {
          "base_uri": "https://localhost:8080/",
          "height": 269
        },
        "id": "_vII5NvaD9z_",
        "outputId": "79326ac5-5307-4643-9110-3a719bf197ea"
      },
      "execution_count": 17,
      "outputs": [
        {
          "output_type": "execute_result",
          "data": {
            "text/plain": [
              "      GENDER  MARRITIAL STATUS   AGE  COMPANION  EMPLOYMENT  TWO_FOUR_WHEELER  \\\n",
              "1000     2.0               1.0  21.0        0.0         3.0               1.0   \n",
              "1001     2.0               1.0  23.0        1.0         3.0               0.0   \n",
              "1002     1.0               1.0  25.0        1.0         2.0               1.0   \n",
              "1003     2.0               1.0  20.0        0.0         2.0               1.0   \n",
              "1004     2.0               1.0  21.0        1.0         2.0               1.0   \n",
              "1005     1.0               1.0  23.0        1.0         4.0               1.0   \n",
              "1006     1.0               0.0  21.0        1.0         2.0               1.0   \n",
              "\n",
              "      CINEMA_LIKES     MONEY  \n",
              "1000           1.0  705599.0  \n",
              "1001           2.0  508890.0  \n",
              "1002           2.0  579222.0  \n",
              "1003           2.0  604955.0  \n",
              "1004           2.0  514313.0  \n",
              "1005           3.0  912896.0  \n",
              "1006           1.0  310000.0  "
            ],
            "text/html": [
              "\n",
              "  <div id=\"df-eafe9149-6114-4442-b9eb-1013443e3a75\">\n",
              "    <div class=\"colab-df-container\">\n",
              "      <div>\n",
              "<style scoped>\n",
              "    .dataframe tbody tr th:only-of-type {\n",
              "        vertical-align: middle;\n",
              "    }\n",
              "\n",
              "    .dataframe tbody tr th {\n",
              "        vertical-align: top;\n",
              "    }\n",
              "\n",
              "    .dataframe thead th {\n",
              "        text-align: right;\n",
              "    }\n",
              "</style>\n",
              "<table border=\"1\" class=\"dataframe\">\n",
              "  <thead>\n",
              "    <tr style=\"text-align: right;\">\n",
              "      <th></th>\n",
              "      <th>GENDER</th>\n",
              "      <th>MARRITIAL STATUS</th>\n",
              "      <th>AGE</th>\n",
              "      <th>COMPANION</th>\n",
              "      <th>EMPLOYMENT</th>\n",
              "      <th>TWO_FOUR_WHEELER</th>\n",
              "      <th>CINEMA_LIKES</th>\n",
              "      <th>MONEY</th>\n",
              "    </tr>\n",
              "  </thead>\n",
              "  <tbody>\n",
              "    <tr>\n",
              "      <th>1000</th>\n",
              "      <td>2.0</td>\n",
              "      <td>1.0</td>\n",
              "      <td>21.0</td>\n",
              "      <td>0.0</td>\n",
              "      <td>3.0</td>\n",
              "      <td>1.0</td>\n",
              "      <td>1.0</td>\n",
              "      <td>705599.0</td>\n",
              "    </tr>\n",
              "    <tr>\n",
              "      <th>1001</th>\n",
              "      <td>2.0</td>\n",
              "      <td>1.0</td>\n",
              "      <td>23.0</td>\n",
              "      <td>1.0</td>\n",
              "      <td>3.0</td>\n",
              "      <td>0.0</td>\n",
              "      <td>2.0</td>\n",
              "      <td>508890.0</td>\n",
              "    </tr>\n",
              "    <tr>\n",
              "      <th>1002</th>\n",
              "      <td>1.0</td>\n",
              "      <td>1.0</td>\n",
              "      <td>25.0</td>\n",
              "      <td>1.0</td>\n",
              "      <td>2.0</td>\n",
              "      <td>1.0</td>\n",
              "      <td>2.0</td>\n",
              "      <td>579222.0</td>\n",
              "    </tr>\n",
              "    <tr>\n",
              "      <th>1003</th>\n",
              "      <td>2.0</td>\n",
              "      <td>1.0</td>\n",
              "      <td>20.0</td>\n",
              "      <td>0.0</td>\n",
              "      <td>2.0</td>\n",
              "      <td>1.0</td>\n",
              "      <td>2.0</td>\n",
              "      <td>604955.0</td>\n",
              "    </tr>\n",
              "    <tr>\n",
              "      <th>1004</th>\n",
              "      <td>2.0</td>\n",
              "      <td>1.0</td>\n",
              "      <td>21.0</td>\n",
              "      <td>1.0</td>\n",
              "      <td>2.0</td>\n",
              "      <td>1.0</td>\n",
              "      <td>2.0</td>\n",
              "      <td>514313.0</td>\n",
              "    </tr>\n",
              "    <tr>\n",
              "      <th>1005</th>\n",
              "      <td>1.0</td>\n",
              "      <td>1.0</td>\n",
              "      <td>23.0</td>\n",
              "      <td>1.0</td>\n",
              "      <td>4.0</td>\n",
              "      <td>1.0</td>\n",
              "      <td>3.0</td>\n",
              "      <td>912896.0</td>\n",
              "    </tr>\n",
              "    <tr>\n",
              "      <th>1006</th>\n",
              "      <td>1.0</td>\n",
              "      <td>0.0</td>\n",
              "      <td>21.0</td>\n",
              "      <td>1.0</td>\n",
              "      <td>2.0</td>\n",
              "      <td>1.0</td>\n",
              "      <td>1.0</td>\n",
              "      <td>310000.0</td>\n",
              "    </tr>\n",
              "  </tbody>\n",
              "</table>\n",
              "</div>\n",
              "      <button class=\"colab-df-convert\" onclick=\"convertToInteractive('df-eafe9149-6114-4442-b9eb-1013443e3a75')\"\n",
              "              title=\"Convert this dataframe to an interactive table.\"\n",
              "              style=\"display:none;\">\n",
              "        \n",
              "  <svg xmlns=\"http://www.w3.org/2000/svg\" height=\"24px\"viewBox=\"0 0 24 24\"\n",
              "       width=\"24px\">\n",
              "    <path d=\"M0 0h24v24H0V0z\" fill=\"none\"/>\n",
              "    <path d=\"M18.56 5.44l.94 2.06.94-2.06 2.06-.94-2.06-.94-.94-2.06-.94 2.06-2.06.94zm-11 1L8.5 8.5l.94-2.06 2.06-.94-2.06-.94L8.5 2.5l-.94 2.06-2.06.94zm10 10l.94 2.06.94-2.06 2.06-.94-2.06-.94-.94-2.06-.94 2.06-2.06.94z\"/><path d=\"M17.41 7.96l-1.37-1.37c-.4-.4-.92-.59-1.43-.59-.52 0-1.04.2-1.43.59L10.3 9.45l-7.72 7.72c-.78.78-.78 2.05 0 2.83L4 21.41c.39.39.9.59 1.41.59.51 0 1.02-.2 1.41-.59l7.78-7.78 2.81-2.81c.8-.78.8-2.07 0-2.86zM5.41 20L4 18.59l7.72-7.72 1.47 1.35L5.41 20z\"/>\n",
              "  </svg>\n",
              "      </button>\n",
              "      \n",
              "  <style>\n",
              "    .colab-df-container {\n",
              "      display:flex;\n",
              "      flex-wrap:wrap;\n",
              "      gap: 12px;\n",
              "    }\n",
              "\n",
              "    .colab-df-convert {\n",
              "      background-color: #E8F0FE;\n",
              "      border: none;\n",
              "      border-radius: 50%;\n",
              "      cursor: pointer;\n",
              "      display: none;\n",
              "      fill: #1967D2;\n",
              "      height: 32px;\n",
              "      padding: 0 0 0 0;\n",
              "      width: 32px;\n",
              "    }\n",
              "\n",
              "    .colab-df-convert:hover {\n",
              "      background-color: #E2EBFA;\n",
              "      box-shadow: 0px 1px 2px rgba(60, 64, 67, 0.3), 0px 1px 3px 1px rgba(60, 64, 67, 0.15);\n",
              "      fill: #174EA6;\n",
              "    }\n",
              "\n",
              "    [theme=dark] .colab-df-convert {\n",
              "      background-color: #3B4455;\n",
              "      fill: #D2E3FC;\n",
              "    }\n",
              "\n",
              "    [theme=dark] .colab-df-convert:hover {\n",
              "      background-color: #434B5C;\n",
              "      box-shadow: 0px 1px 3px 1px rgba(0, 0, 0, 0.15);\n",
              "      filter: drop-shadow(0px 1px 2px rgba(0, 0, 0, 0.3));\n",
              "      fill: #FFFFFF;\n",
              "    }\n",
              "  </style>\n",
              "\n",
              "      <script>\n",
              "        const buttonEl =\n",
              "          document.querySelector('#df-eafe9149-6114-4442-b9eb-1013443e3a75 button.colab-df-convert');\n",
              "        buttonEl.style.display =\n",
              "          google.colab.kernel.accessAllowed ? 'block' : 'none';\n",
              "\n",
              "        async function convertToInteractive(key) {\n",
              "          const element = document.querySelector('#df-eafe9149-6114-4442-b9eb-1013443e3a75');\n",
              "          const dataTable =\n",
              "            await google.colab.kernel.invokeFunction('convertToInteractive',\n",
              "                                                     [key], {});\n",
              "          if (!dataTable) return;\n",
              "\n",
              "          const docLinkHtml = 'Like what you see? Visit the ' +\n",
              "            '<a target=\"_blank\" href=https://colab.research.google.com/notebooks/data_table.ipynb>data table notebook</a>'\n",
              "            + ' to learn more about interactive tables.';\n",
              "          element.innerHTML = '';\n",
              "          dataTable['output_type'] = 'display_data';\n",
              "          await google.colab.output.renderOutput(dataTable, element);\n",
              "          const docLink = document.createElement('div');\n",
              "          docLink.innerHTML = docLinkHtml;\n",
              "          element.appendChild(docLink);\n",
              "        }\n",
              "      </script>\n",
              "    </div>\n",
              "  </div>\n",
              "  "
            ]
          },
          "metadata": {},
          "execution_count": 17
        }
      ]
    },
    {
      "cell_type": "code",
      "source": [
        "df.drop_duplicates(keep='first',inplace=True)"
      ],
      "metadata": {
        "id": "KFNXKPhcEArX"
      },
      "execution_count": 18,
      "outputs": []
    },
    {
      "cell_type": "code",
      "source": [
        "df.isna().sum()"
      ],
      "metadata": {
        "colab": {
          "base_uri": "https://localhost:8080/"
        },
        "id": "DqoWD4fIFAqv",
        "outputId": "128d1bcc-27bb-481f-80e7-086623a0fd4e"
      },
      "execution_count": 19,
      "outputs": [
        {
          "output_type": "execute_result",
          "data": {
            "text/plain": [
              "GENDER              1\n",
              "MARRITIAL STATUS    3\n",
              "AGE                 2\n",
              "COMPANION           3\n",
              "EMPLOYMENT          1\n",
              "TWO_FOUR_WHEELER    4\n",
              "CINEMA_LIKES        2\n",
              "MONEY               1\n",
              "dtype: int64"
            ]
          },
          "metadata": {},
          "execution_count": 19
        }
      ]
    },
    {
      "cell_type": "code",
      "source": [
        "df['GENDER']=df['GENDER'].astype('object')\n",
        "df['MARRITIAL STATUS']=df['MARRITIAL STATUS'].astype('object')\n",
        "df['COMPANION']=df['COMPANION'].astype('object')\n",
        "df['TWO_FOUR_WHEELER']=df['TWO_FOUR_WHEELER'].astype('object')\n",
        "df['CINEMA_LIKES']=df['CINEMA_LIKES'].astype('object')"
      ],
      "metadata": {
        "id": "V1N4ve37FDNP"
      },
      "execution_count": 20,
      "outputs": []
    },
    {
      "cell_type": "code",
      "source": [
        "df.info()"
      ],
      "metadata": {
        "colab": {
          "base_uri": "https://localhost:8080/"
        },
        "id": "6gB0-obAFGAZ",
        "outputId": "7cc364f8-2c31-4f58-969a-92e0079e34a9"
      },
      "execution_count": 21,
      "outputs": [
        {
          "output_type": "stream",
          "name": "stdout",
          "text": [
            "<class 'pandas.core.frame.DataFrame'>\n",
            "Int64Index: 1000 entries, 0 to 999\n",
            "Data columns (total 8 columns):\n",
            " #   Column            Non-Null Count  Dtype  \n",
            "---  ------            --------------  -----  \n",
            " 0   GENDER            999 non-null    object \n",
            " 1   MARRITIAL STATUS  997 non-null    object \n",
            " 2   AGE               998 non-null    float64\n",
            " 3   COMPANION         997 non-null    object \n",
            " 4   EMPLOYMENT        999 non-null    float64\n",
            " 5   TWO_FOUR_WHEELER  996 non-null    object \n",
            " 6   CINEMA_LIKES      998 non-null    object \n",
            " 7   MONEY             999 non-null    float64\n",
            "dtypes: float64(3), object(5)\n",
            "memory usage: 70.3+ KB\n"
          ]
        }
      ]
    },
    {
      "cell_type": "code",
      "source": [
        "for i in df:\n",
        "    if df[i].dtype=='object':\n",
        "        df[i].fillna(df[i].mode()[0],inplace=True)\n",
        "    else:\n",
        "        df[i].fillna(df[i].mean(),inplace=True)"
      ],
      "metadata": {
        "id": "qrzHfgNvFIag"
      },
      "execution_count": 22,
      "outputs": []
    },
    {
      "cell_type": "code",
      "source": [
        "df.info()\n"
      ],
      "metadata": {
        "colab": {
          "base_uri": "https://localhost:8080/"
        },
        "id": "GJuvS9UeFLmD",
        "outputId": "47c9b0e2-7b0e-4e26-9bc3-703d36793d19"
      },
      "execution_count": 23,
      "outputs": [
        {
          "output_type": "stream",
          "name": "stdout",
          "text": [
            "<class 'pandas.core.frame.DataFrame'>\n",
            "Int64Index: 1000 entries, 0 to 999\n",
            "Data columns (total 8 columns):\n",
            " #   Column            Non-Null Count  Dtype  \n",
            "---  ------            --------------  -----  \n",
            " 0   GENDER            1000 non-null   float64\n",
            " 1   MARRITIAL STATUS  1000 non-null   float64\n",
            " 2   AGE               1000 non-null   float64\n",
            " 3   COMPANION         1000 non-null   float64\n",
            " 4   EMPLOYMENT        1000 non-null   float64\n",
            " 5   TWO_FOUR_WHEELER  1000 non-null   float64\n",
            " 6   CINEMA_LIKES      1000 non-null   float64\n",
            " 7   MONEY             1000 non-null   float64\n",
            "dtypes: float64(8)\n",
            "memory usage: 70.3 KB\n"
          ]
        }
      ]
    },
    {
      "cell_type": "code",
      "source": [
        "import matplotlib.pyplot as mtp\n",
        "import seaborn as sns\n",
        "sns.pairplot(df,kind='scatter')\n"
      ],
      "metadata": {
        "colab": {
          "base_uri": "https://localhost:8080/",
          "height": 1000
        },
        "id": "SMED0qhwFOMv",
        "outputId": "034203a5-bc12-4f34-871a-35a6bd6268cb"
      },
      "execution_count": 24,
      "outputs": [
        {
          "output_type": "execute_result",
          "data": {
            "text/plain": [
              "<seaborn.axisgrid.PairGrid at 0x7fadb1056a90>"
            ]
          },
          "metadata": {},
          "execution_count": 24
        },
        {
          "output_type": "display_data",
          "data": {
            "text/plain": [
              "<Figure size 1440x1440 with 72 Axes>"
            ],
            "image/png": "[encoded data removed]"
          },
          "metadata": {
            "needs_background": "light"
          }
        }
      ]
    },
    {
      "cell_type": "code",
      "source": [
        "sns.heatmap(df,cmap='coolwarm')"
      ],
      "metadata": {
        "colab": {
          "base_uri": "https://localhost:8080/",
          "height": 394
        },
        "id": "5Ne-O5DuFWDg",
        "outputId": "d11034a2-41a9-47ed-b01d-dcc3ad9eadc1"
      },
      "execution_count": 25,
      "outputs": [
        {
          "output_type": "execute_result",
          "data": {
            "text/plain": [
              "<matplotlib.axes._subplots.AxesSubplot at 0x7fadaccd8110>"
            ]
          },
          "metadata": {},
          "execution_count": 25
        },
        {
          "output_type": "display_data",
          "data": {
            "text/plain": [
              "<Figure size 432x288 with 2 Axes>"
            ],
            "image/png": "[encoded data removed]"
          },
          "metadata": {
            "needs_background": "light"
          }
        }
      ]
    },
    {
      "cell_type": "code",
      "source": [
        "df.corr().style.background_gradient(cmap='coolwarm')"
      ],
      "metadata": {
        "colab": {
          "base_uri": "https://localhost:8080/",
          "height": 300
        },
        "id": "AYlWfSxYFX0s",
        "outputId": "f3f759c6-6168-472e-b5e9-4c686a17b359"
      },
      "execution_count": 26,
      "outputs": [
        {
          "output_type": "execute_result",
          "data": {
            "text/plain": [
              "<pandas.io.formats.style.Styler at 0x7fadac6f3490>"
            ],
            "text/html": [
              "<style type=\"text/css\">\n",
              "#T_82353_row0_col0, #T_82353_row1_col1, #T_82353_row2_col2, #T_82353_row3_col3, #T_82353_row4_col4, #T_82353_row5_col5, #T_82353_row6_col6, #T_82353_row7_col7 {\n",
              "  background-color: #b40426;\n",
              "  color: #f1f1f1;\n",
              "}\n",
              "#T_82353_row0_col1, #T_82353_row0_col4 {\n",
              "  background-color: #5875e1;\n",
              "  color: #f1f1f1;\n",
              "}\n",
              "#T_82353_row0_col2, #T_82353_row3_col2, #T_82353_row4_col7 {\n",
              "  background-color: #465ecf;\n",
              "  color: #f1f1f1;\n",
              "}\n",
              "#T_82353_row0_col3, #T_82353_row5_col2, #T_82353_row5_col4, #T_82353_row5_col6, #T_82353_row7_col2 {\n",
              "  background-color: #4f69d9;\n",
              "  color: #f1f1f1;\n",
              "}\n",
              "#T_82353_row0_col5, #T_82353_row2_col7, #T_82353_row3_col1, #T_82353_row4_col1, #T_82353_row5_col1 {\n",
              "  background-color: #4c66d6;\n",
              "  color: #f1f1f1;\n",
              "}\n",
              "#T_82353_row0_col6, #T_82353_row2_col5, #T_82353_row7_col4 {\n",
              "  background-color: #536edd;\n",
              "  color: #f1f1f1;\n",
              "}\n",
              "#T_82353_row0_col7, #T_82353_row3_col0, #T_82353_row3_col7 {\n",
              "  background-color: #4055c8;\n",
              "  color: #f1f1f1;\n",
              "}\n",
              "#T_82353_row1_col0, #T_82353_row3_col4, #T_82353_row4_col2 {\n",
              "  background-color: #4257c9;\n",
              "  color: #f1f1f1;\n",
              "}\n",
              "#T_82353_row1_col2, #T_82353_row5_col0 {\n",
              "  background-color: #3e51c5;\n",
              "  color: #f1f1f1;\n",
              "}\n",
              "#T_82353_row1_col3, #T_82353_row1_col5, #T_82353_row2_col6 {\n",
              "  background-color: #455cce;\n",
              "  color: #f1f1f1;\n",
              "}\n",
              "#T_82353_row1_col4, #T_82353_row2_col3, #T_82353_row2_col4 {\n",
              "  background-color: #4b64d5;\n",
              "  color: #f1f1f1;\n",
              "}\n",
              "#T_82353_row1_col6, #T_82353_row3_col5, #T_82353_row5_col3, #T_82353_row6_col1, #T_82353_row6_col2, #T_82353_row6_col4, #T_82353_row6_col7, #T_82353_row7_col0 {\n",
              "  background-color: #3b4cc0;\n",
              "  color: #f1f1f1;\n",
              "}\n",
              "#T_82353_row1_col7, #T_82353_row6_col5, #T_82353_row7_col5 {\n",
              "  background-color: #485fd1;\n",
              "  color: #f1f1f1;\n",
              "}\n",
              "#T_82353_row2_col0, #T_82353_row4_col3, #T_82353_row4_col6 {\n",
              "  background-color: #3c4ec2;\n",
              "  color: #f1f1f1;\n",
              "}\n",
              "#T_82353_row2_col1, #T_82353_row6_col3, #T_82353_row7_col3, #T_82353_row7_col6 {\n",
              "  background-color: #4961d2;\n",
              "  color: #f1f1f1;\n",
              "}\n",
              "#T_82353_row3_col6 {\n",
              "  background-color: #506bda;\n",
              "  color: #f1f1f1;\n",
              "}\n",
              "#T_82353_row4_col0 {\n",
              "  background-color: #445acc;\n",
              "  color: #f1f1f1;\n",
              "}\n",
              "#T_82353_row4_col5 {\n",
              "  background-color: #4a63d3;\n",
              "  color: #f1f1f1;\n",
              "}\n",
              "#T_82353_row5_col7 {\n",
              "  background-color: #3f53c6;\n",
              "  color: #f1f1f1;\n",
              "}\n",
              "#T_82353_row6_col0 {\n",
              "  background-color: #3d50c3;\n",
              "  color: #f1f1f1;\n",
              "}\n",
              "#T_82353_row7_col1 {\n",
              "  background-color: #5673e0;\n",
              "  color: #f1f1f1;\n",
              "}\n",
              "</style>\n",
              "<table id=\"T_82353_\" class=\"dataframe\">\n",
              "  <thead>\n",
              "    <tr>\n",
              "      <th class=\"blank level0\" >&nbsp;</th>\n",
              "      <th class=\"col_heading level0 col0\" >GENDER</th>\n",
              "      <th class=\"col_heading level0 col1\" >MARRITIAL STATUS</th>\n",
              "      <th class=\"col_heading level0 col2\" >AGE</th>\n",
              "      <th class=\"col_heading level0 col3\" >COMPANION</th>\n",
              "      <th class=\"col_heading level0 col4\" >EMPLOYMENT</th>\n",
              "      <th class=\"col_heading level0 col5\" >TWO_FOUR_WHEELER</th>\n",
              "      <th class=\"col_heading level0 col6\" >CINEMA_LIKES</th>\n",
              "      <th class=\"col_heading level0 col7\" >MONEY</th>\n",
              "    </tr>\n",
              "  </thead>\n",
              "  <tbody>\n",
              "    <tr>\n",
              "      <th id=\"T_82353_level0_row0\" class=\"row_heading level0 row0\" >GENDER</th>\n",
              "      <td id=\"T_82353_row0_col0\" class=\"data row0 col0\" >1.000000</td>\n",
              "      <td id=\"T_82353_row0_col1\" class=\"data row0 col1\" >0.013108</td>\n",
              "      <td id=\"T_82353_row0_col2\" class=\"data row0 col2\" >-0.007188</td>\n",
              "      <td id=\"T_82353_row0_col3\" class=\"data row0 col3\" >0.007639</td>\n",
              "      <td id=\"T_82353_row0_col4\" class=\"data row0 col4\" >0.018021</td>\n",
              "      <td id=\"T_82353_row0_col5\" class=\"data row0 col5\" >-0.001302</td>\n",
              "      <td id=\"T_82353_row0_col6\" class=\"data row0 col6\" >-0.002564</td>\n",
              "      <td id=\"T_82353_row0_col7\" class=\"data row0 col7\" >-0.014216</td>\n",
              "    </tr>\n",
              "    <tr>\n",
              "      <th id=\"T_82353_level0_row1\" class=\"row_heading level0 row1\" >MARRITIAL STATUS</th>\n",
              "      <td id=\"T_82353_row1_col0\" class=\"data row1 col0\" >0.013108</td>\n",
              "      <td id=\"T_82353_row1_col1\" class=\"data row1 col1\" >1.000000</td>\n",
              "      <td id=\"T_82353_row1_col2\" class=\"data row1 col2\" >-0.034992</td>\n",
              "      <td id=\"T_82353_row1_col3\" class=\"data row1 col3\" >-0.023435</td>\n",
              "      <td id=\"T_82353_row1_col4\" class=\"data row1 col4\" >-0.022418</td>\n",
              "      <td id=\"T_82353_row1_col5\" class=\"data row1 col5\" >-0.025955</td>\n",
              "      <td id=\"T_82353_row1_col6\" class=\"data row1 col6\" >-0.090013</td>\n",
              "      <td id=\"T_82353_row1_col7\" class=\"data row1 col7\" >0.010192</td>\n",
              "    </tr>\n",
              "    <tr>\n",
              "      <th id=\"T_82353_level0_row2\" class=\"row_heading level0 row2\" >AGE</th>\n",
              "      <td id=\"T_82353_row2_col0\" class=\"data row2 col0\" >-0.007188</td>\n",
              "      <td id=\"T_82353_row2_col1\" class=\"data row2 col1\" >-0.034992</td>\n",
              "      <td id=\"T_82353_row2_col2\" class=\"data row2 col2\" >1.000000</td>\n",
              "      <td id=\"T_82353_row2_col3\" class=\"data row2 col3\" >-0.005622</td>\n",
              "      <td id=\"T_82353_row2_col4\" class=\"data row2 col4\" >-0.023155</td>\n",
              "      <td id=\"T_82353_row2_col5\" class=\"data row2 col5\" >0.022159</td>\n",
              "      <td id=\"T_82353_row2_col6\" class=\"data row2 col6\" >-0.048393</td>\n",
              "      <td id=\"T_82353_row2_col7\" class=\"data row2 col7\" >0.023629</td>\n",
              "    </tr>\n",
              "    <tr>\n",
              "      <th id=\"T_82353_level0_row3\" class=\"row_heading level0 row3\" >COMPANION</th>\n",
              "      <td id=\"T_82353_row3_col0\" class=\"data row3 col0\" >0.007639</td>\n",
              "      <td id=\"T_82353_row3_col1\" class=\"data row3 col1\" >-0.023435</td>\n",
              "      <td id=\"T_82353_row3_col2\" class=\"data row3 col2\" >-0.005622</td>\n",
              "      <td id=\"T_82353_row3_col3\" class=\"data row3 col3\" >1.000000</td>\n",
              "      <td id=\"T_82353_row3_col4\" class=\"data row3 col4\" >-0.057902</td>\n",
              "      <td id=\"T_82353_row3_col5\" class=\"data row3 col5\" >-0.064787</td>\n",
              "      <td id=\"T_82353_row3_col6\" class=\"data row3 col6\" >-0.012250</td>\n",
              "      <td id=\"T_82353_row3_col7\" class=\"data row3 col7\" >-0.013810</td>\n",
              "    </tr>\n",
              "    <tr>\n",
              "      <th id=\"T_82353_level0_row4\" class=\"row_heading level0 row4\" >EMPLOYMENT</th>\n",
              "      <td id=\"T_82353_row4_col0\" class=\"data row4 col0\" >0.018021</td>\n",
              "      <td id=\"T_82353_row4_col1\" class=\"data row4 col1\" >-0.022418</td>\n",
              "      <td id=\"T_82353_row4_col2\" class=\"data row4 col2\" >-0.023155</td>\n",
              "      <td id=\"T_82353_row4_col3\" class=\"data row4 col3\" >-0.057902</td>\n",
              "      <td id=\"T_82353_row4_col4\" class=\"data row4 col4\" >1.000000</td>\n",
              "      <td id=\"T_82353_row4_col5\" class=\"data row4 col5\" >-0.010501</td>\n",
              "      <td id=\"T_82353_row4_col6\" class=\"data row4 col6\" >-0.085395</td>\n",
              "      <td id=\"T_82353_row4_col7\" class=\"data row4 col7\" >0.003348</td>\n",
              "    </tr>\n",
              "    <tr>\n",
              "      <th id=\"T_82353_level0_row5\" class=\"row_heading level0 row5\" >TWO_FOUR_WHEELER</th>\n",
              "      <td id=\"T_82353_row5_col0\" class=\"data row5 col0\" >-0.001302</td>\n",
              "      <td id=\"T_82353_row5_col1\" class=\"data row5 col1\" >-0.025955</td>\n",
              "      <td id=\"T_82353_row5_col2\" class=\"data row5 col2\" >0.022159</td>\n",
              "      <td id=\"T_82353_row5_col3\" class=\"data row5 col3\" >-0.064787</td>\n",
              "      <td id=\"T_82353_row5_col4\" class=\"data row5 col4\" >-0.010501</td>\n",
              "      <td id=\"T_82353_row5_col5\" class=\"data row5 col5\" >1.000000</td>\n",
              "      <td id=\"T_82353_row5_col6\" class=\"data row5 col6\" >-0.017318</td>\n",
              "      <td id=\"T_82353_row5_col7\" class=\"data row5 col7\" >-0.017733</td>\n",
              "    </tr>\n",
              "    <tr>\n",
              "      <th id=\"T_82353_level0_row6\" class=\"row_heading level0 row6\" >CINEMA_LIKES</th>\n",
              "      <td id=\"T_82353_row6_col0\" class=\"data row6 col0\" >-0.002564</td>\n",
              "      <td id=\"T_82353_row6_col1\" class=\"data row6 col1\" >-0.090013</td>\n",
              "      <td id=\"T_82353_row6_col2\" class=\"data row6 col2\" >-0.048393</td>\n",
              "      <td id=\"T_82353_row6_col3\" class=\"data row6 col3\" >-0.012250</td>\n",
              "      <td id=\"T_82353_row6_col4\" class=\"data row6 col4\" >-0.085395</td>\n",
              "      <td id=\"T_82353_row6_col5\" class=\"data row6 col5\" >-0.017318</td>\n",
              "      <td id=\"T_82353_row6_col6\" class=\"data row6 col6\" >1.000000</td>\n",
              "      <td id=\"T_82353_row6_col7\" class=\"data row6 col7\" >-0.037762</td>\n",
              "    </tr>\n",
              "    <tr>\n",
              "      <th id=\"T_82353_level0_row7\" class=\"row_heading level0 row7\" >MONEY</th>\n",
              "      <td id=\"T_82353_row7_col0\" class=\"data row7 col0\" >-0.014216</td>\n",
              "      <td id=\"T_82353_row7_col1\" class=\"data row7 col1\" >0.010192</td>\n",
              "      <td id=\"T_82353_row7_col2\" class=\"data row7 col2\" >0.023629</td>\n",
              "      <td id=\"T_82353_row7_col3\" class=\"data row7 col3\" >-0.013810</td>\n",
              "      <td id=\"T_82353_row7_col4\" class=\"data row7 col4\" >0.003348</td>\n",
              "      <td id=\"T_82353_row7_col5\" class=\"data row7 col5\" >-0.017733</td>\n",
              "      <td id=\"T_82353_row7_col6\" class=\"data row7 col6\" >-0.037762</td>\n",
              "      <td id=\"T_82353_row7_col7\" class=\"data row7 col7\" >1.000000</td>\n",
              "    </tr>\n",
              "  </tbody>\n",
              "</table>\n"
            ]
          },
          "metadata": {},
          "execution_count": 26
        }
      ]
    },
    {
      "cell_type": "code",
      "source": [
        "fig,ax=mtp.subplots(2,4,figsize=(10,15))\n",
        "mtp.subplot(2,4,1)\n",
        "mtp.boxplot(df['GENDER'])\n",
        "mtp.subplot(2,4,2)\n",
        "mtp.boxplot(df['MARRITIAL STATUS'])\n",
        "mtp.subplot(2,4,3)\n",
        "mtp.boxplot(df['AGE'])\n",
        "mtp.subplot(2,4,4)\n",
        "mtp.boxplot(df['COMPANION'])\n",
        "mtp.subplot(2,4,5)\n",
        "mtp.boxplot(df['TWO_FOUR_WHEELER'])\n",
        "mtp.subplot(2,4,6)\n",
        "mtp.boxplot(df['CINEMA_LIKES'])\n",
        "mtp.subplot(2,4,7)\n",
        "mtp.boxplot(df['MONEY'])\n"
      ],
      "metadata": {
        "colab": {
          "base_uri": "https://localhost:8080/",
          "height": 1000
        },
        "id": "euPfTD_xFafY",
        "outputId": "94d8417e-c52d-4338-dc31-be35903a1741"
      },
      "execution_count": 27,
      "outputs": [
        {
          "output_type": "execute_result",
          "data": {
            "text/plain": [
              "{'boxes': [<matplotlib.lines.Line2D at 0x7fadaa740210>],\n",
              " 'caps': [<matplotlib.lines.Line2D at 0x7fadaa745250>,\n",
              "  <matplotlib.lines.Line2D at 0x7fadaa745790>],\n",
              " 'fliers': [<matplotlib.lines.Line2D at 0x7fadaa750290>],\n",
              " 'means': [],\n",
              " 'medians': [<matplotlib.lines.Line2D at 0x7fadaa745d10>],\n",
              " 'whiskers': [<matplotlib.lines.Line2D at 0x7fadaa740790>,\n",
              "  <matplotlib.lines.Line2D at 0x7fadaa740cd0>]}"
            ]
          },
          "metadata": {},
          "execution_count": 27
        },
        {
          "output_type": "display_data",
          "data": {
            "text/plain": [
              "<Figure size 720x1080 with 8 Axes>"
            ],
            "image/png": "[encoded data removed]"
          },
          "metadata": {
            "needs_background": "light"
          }
        }
      ]
    },
    {
      "cell_type": "code",
      "source": [
        "for i in df:\n",
        "    q1=df[i].quantile(0.25)\n",
        "    q3=df[i].quantile(0.75)\n",
        "    iqr=q3-q1\n",
        "    lower=q1-1.5*iqr\n",
        "    upper=q3+1.5*iqr\n",
        "    df[i]=np.where(df[i]>upper,upper,df[i])\n",
        "    df[i]=np.where(df[i]<lower,lower,df[i])\n",
        "    "
      ],
      "metadata": {
        "id": "WLRGfv0QFddy"
      },
      "execution_count": 28,
      "outputs": []
    },
    {
      "cell_type": "code",
      "source": [
        "fig,ax=mtp.subplots(2,4,figsize=(10,15))\n",
        "mtp.subplot(2,4,1)\n",
        "mtp.boxplot(df['GENDER'])\n",
        "mtp.subplot(2,4,2)\n",
        "mtp.boxplot(df['MARRITIAL STATUS'])\n",
        "mtp.subplot(2,4,3)\n",
        "mtp.boxplot(df['AGE'])\n",
        "mtp.subplot(2,4,4)\n",
        "mtp.boxplot(df['COMPANION'])\n",
        "mtp.subplot(2,4,5)\n",
        "mtp.boxplot(df['TWO_FOUR_WHEELER'])\n",
        "mtp.subplot(2,4,6)\n",
        "mtp.boxplot(df['CINEMA_LIKES'])\n",
        "mtp.subplot(2,4,7)\n",
        "mtp.boxplot(df['MONEY'])\n"
      ],
      "metadata": {
        "colab": {
          "base_uri": "https://localhost:8080/",
          "height": 1000
        },
        "id": "GZLzjIuhFg8v",
        "outputId": "d36d332f-98f0-4b78-c07f-34660a4eaa3f"
      },
      "execution_count": 29,
      "outputs": [
        {
          "output_type": "execute_result",
          "data": {
            "text/plain": [
              "{'boxes': [<matplotlib.lines.Line2D at 0x7fadaa2a29d0>],\n",
              " 'caps': [<matplotlib.lines.Line2D at 0x7fadaa2a7a10>,\n",
              "  <matplotlib.lines.Line2D at 0x7fadaa2a7f50>],\n",
              " 'fliers': [<matplotlib.lines.Line2D at 0x7fadaa22ea50>],\n",
              " 'means': [],\n",
              " 'medians': [<matplotlib.lines.Line2D at 0x7fadaa22e510>],\n",
              " 'whiskers': [<matplotlib.lines.Line2D at 0x7fadaa2a2f50>,\n",
              "  <matplotlib.lines.Line2D at 0x7fadaa2a74d0>]}"
            ]
          },
          "metadata": {},
          "execution_count": 29
        },
        {
          "output_type": "display_data",
          "data": {
            "text/plain": [
              "<Figure size 720x1080 with 8 Axes>"
            ],
            "image/png": "[encoded data removed]"
          },
          "metadata": {
            "needs_background": "light"
          }
        }
      ]
    },
    {
      "cell_type": "code",
      "source": [
        ""
      ],
      "metadata": {
        "id": "hX54JB9aFi_-"
      },
      "execution_count": null,
      "outputs": []
    }
  ]
}